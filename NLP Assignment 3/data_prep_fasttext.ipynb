{
 "cells": [
  {
   "cell_type": "code",
   "execution_count": 18,
   "metadata": {},
   "outputs": [],
   "source": [
    "import numpy as np\n",
    "from tqdm import tqdm_notebook as tqdm\n",
    "import time"
   ]
  },
  {
   "cell_type": "markdown",
   "metadata": {},
   "source": [
    "### Taking in the data"
   ]
  },
  {
   "cell_type": "code",
   "execution_count": 20,
   "metadata": {},
   "outputs": [],
   "source": [
    "data = []\n",
    "ans = 0\n",
    "with open(\"./data/train.txt\", \"r\", encoding=\"utf-8\") as f:\n",
    "    tweet = {}\n",
    "    for row in f.readlines():\n",
    "        row_data = row.strip().split()\n",
    "        if len(row_data)==0 or len(row_data)==1:\n",
    "            continue\n",
    "        if row_data[0]==\"meta\":\n",
    "            data.append(tweet)\n",
    "            tweet = {}\n",
    "            tweet[\"id\"] = row_data[1]\n",
    "            tweet[\"class\"] = row_data[2]\n",
    "            tweet[\"text\"] = []\n",
    "            tweet[\"token_type\"] = []\n",
    "        else:\n",
    "            tweet[\"text\"].append(row_data[0])\n",
    "            tweet[\"token_type\"].append(row_data[1])\n",
    "data = data[1:]"
   ]
  },
  {
   "cell_type": "markdown",
   "metadata": {},
   "source": [
    "## Preprocessing functions"
   ]
  },
  {
   "cell_type": "code",
   "execution_count": 35,
   "metadata": {},
   "outputs": [],
   "source": [
    "# Returns True if anything other than A-Z or a-z is present in string\n",
    "def extrachar(word):\n",
    "    for ch in word:\n",
    "        o = ord(ch)\n",
    "        if (o>122 or o<65):\n",
    "            return True\n",
    "    return False\n",
    "\n",
    "# Cleans the tweets by removing useless tokens, links, mentions and hashtags\n",
    "def clean_tweet(tweet):\n",
    "    dat = zip(tweet[\"text\"], tweet[\"token_type\"])\n",
    "    li = []\n",
    "    dat2 = []\n",
    "    flag = 0\n",
    "    for i,t in dat:\n",
    "        if(flag==1):\n",
    "            flag = 0\n",
    "            continue\n",
    "        if(i==\"_\" or i==\"@\" or i==\"#\"):\n",
    "            flag = 1\n",
    "            continue\n",
    "        dat2.append((i,t))\n",
    "    dat = dat2\n",
    "    lx = lambda x: x[1]!=\"O\"\n",
    "    lt = map(lambda x: (x[0].lower(), x[1]),filter(lx,dat))\n",
    "    for i,t in lt:\n",
    "        if(i==\"http\" or i==\"https\" or i==\"t\"):\n",
    "            break\n",
    "        else:\n",
    "            if((not (extrachar(i) or len(i)<3)) and t!=\"EMT\"):\n",
    "                li.append((i,t))\n",
    "            if(t==\"EMT\"):\n",
    "                li.append((i,t))\n",
    "    ttext = [x[0] for x in li]\n",
    "    ttoken = [x[1] for x in li]\n",
    "    return ttext, ttoken"
   ]
  },
  {
   "cell_type": "markdown",
   "metadata": {},
   "source": [
    "### Prepares list of Input and Sentiment"
   ]
  },
  {
   "cell_type": "code",
   "execution_count": 32,
   "metadata": {},
   "outputs": [],
   "source": [
    "inp = []\n",
    "outp = []\n",
    "ttype = []\n",
    "in_vocab = set()\n",
    "ttype_vocab = set([\"Hin\", \"Eng\", \"EMT\"])\n",
    "out_vocab = set([\"neutral\", \"positive\", \"negative\"])\n",
    "\n",
    "for tweet in data:\n",
    "    if(tweet[\"class\"] in [\"negative\", \"neutral\",\"positive\"]):\n",
    "        i, _ = clean_tweet(tweet)\n",
    "        i.append('\\n')\n",
    "        i = [\"__label__\"+tweet[\"class\"]] + i\n",
    "        inp.append(' '.join(i))\n",
    "\n",
    "in_vocab = sorted(in_vocab)\n",
    "out_vocab = sorted(out_vocab)\n",
    "ttype_vocab = sorted(ttype_vocab)"
   ]
  },
  {
   "cell_type": "code",
   "execution_count": 33,
   "metadata": {},
   "outputs": [
    {
     "data": {
      "text/plain": [
       "['__label__negative pakistan ghra tauq pakistan israel tasleem nahein kerta isko palestine kehta occupied palestine \\n',\n",
       " '__label__negative madarchod mulle mathura nahi dikha tha jab mullo hindu iss liye mara lasse paise mag liye the \\n',\n",
       " '__label__positive manya pradhan mantri mahoday shriman narendra modi pradhanmantri banne par hardik badhai tahe dil \\n',\n",
       " '__label__positive jcb full trend chal rahi \\n',\n",
       " '__label__positive ravishkumarblog loksabha janta sirf modi vote rahi thi kisi bjp without \\n',\n",
       " '__label__negative bhosdike tum pechvade tatti rahoge \\n',\n",
       " '__label__positive love bhaijan father son best pic from entire mashallah \\n',\n",
       " '__label__negative tumhara pass abh deemagh hai nahi islea google apna deemagh banaya hua hai har koi tumhari tarh \\n',\n",
       " '__label__positive weni ankere gae this weekend \\n',\n",
       " '__label__negative lage raho mullo tumhre issi quran faad gyan kayal hain duniya allah bhi khus \\n']"
      ]
     },
     "execution_count": 33,
     "metadata": {},
     "output_type": "execute_result"
    }
   ],
   "source": [
    "inp[:10]"
   ]
  },
  {
   "cell_type": "markdown",
   "metadata": {},
   "source": [
    "### Write to file in the fasttext format"
   ]
  },
  {
   "cell_type": "code",
   "execution_count": 34,
   "metadata": {},
   "outputs": [],
   "source": [
    "with open(\"train_fast.txt\",\"w\",encoding='utf-8') as f:\n",
    "    f.writelines(inp)"
   ]
  }
 ],
 "metadata": {
  "kernelspec": {
   "display_name": "Python 3",
   "language": "python",
   "name": "python3"
  },
  "language_info": {
   "codemirror_mode": {
    "name": "ipython",
    "version": 3
   },
   "file_extension": ".py",
   "mimetype": "text/x-python",
   "name": "python",
   "nbconvert_exporter": "python",
   "pygments_lexer": "ipython3",
   "version": "3.6.2"
  }
 },
 "nbformat": 4,
 "nbformat_minor": 2
}
